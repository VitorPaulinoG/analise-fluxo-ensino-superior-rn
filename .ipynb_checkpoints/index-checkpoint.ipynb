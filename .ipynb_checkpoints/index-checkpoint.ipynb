{
 "cells": [
  {
   "cell_type": "markdown",
   "id": "6e1dc843-72b9-4e65-a809-07ba45604241",
   "metadata": {},
   "source": [
    "# Análise"
   ]
  },
  {
   "cell_type": "code",
   "execution_count": 63,
   "id": "9d8c811e-70b5-46aa-83d1-8ce1e86034e8",
   "metadata": {},
   "outputs": [],
   "source": [
    "import pandas as pd"
   ]
  },
  {
   "cell_type": "markdown",
   "id": "87686989-761d-47a6-8eae-d53556e89b7c",
   "metadata": {
    "jp-MarkdownHeadingCollapsed": true
   },
   "source": [
    "## Leitura dos Dados"
   ]
  },
  {
   "cell_type": "code",
   "execution_count": 64,
   "id": "36547021-ee28-4a58-a0ff-220f7f5af312",
   "metadata": {
    "scrolled": true
   },
   "outputs": [],
   "source": [
    "df = pd.read_csv('base.csv').drop(0)"
   ]
  },
  {
   "cell_type": "markdown",
   "id": "33920e6c-b3ed-48c1-8f5f-dea31f29c059",
   "metadata": {
    "jp-MarkdownHeadingCollapsed": true
   },
   "source": [
    "## Seleção dos Atributos da Análise"
   ]
  },
  {
   "cell_type": "code",
   "execution_count": 65,
   "id": "3ac415c0-3005-4728-bccc-605e90c00516",
   "metadata": {},
   "outputs": [],
   "source": [
    "colunas_selecionadas = [\n",
    "    'Grau Acadêmico', \n",
    "    'Modalidade de Ensino', \n",
    "    'Nome da Grande Área do Curso segundo a classificação CINE BRASIL', \n",
    "    'Ano de Ingresso', \n",
    "    'Quantidade de Ingressantes no Curso', \n",
    "    'Quantidade de Concluintes no Curso no ano de referência', \n",
    "    'Quantidade de Desistência no Curso no ano de referência'\n",
    "]\n",
    "df = df[colunas_selecionadas]"
   ]
  },
  {
   "cell_type": "code",
   "execution_count": 66,
   "id": "04080f0e-6fa8-4781-b4e1-8430b5269899",
   "metadata": {
    "scrolled": true
   },
   "outputs": [
    {
     "data": {
      "text/html": [
       "<div>\n",
       "<style scoped>\n",
       "    .dataframe tbody tr th:only-of-type {\n",
       "        vertical-align: middle;\n",
       "    }\n",
       "\n",
       "    .dataframe tbody tr th {\n",
       "        vertical-align: top;\n",
       "    }\n",
       "\n",
       "    .dataframe thead th {\n",
       "        text-align: right;\n",
       "    }\n",
       "</style>\n",
       "<table border=\"1\" class=\"dataframe\">\n",
       "  <thead>\n",
       "    <tr style=\"text-align: right;\">\n",
       "      <th></th>\n",
       "      <th>Grau Acadêmico</th>\n",
       "      <th>Modalidade de Ensino</th>\n",
       "      <th>Nome da Grande Área do Curso segundo a classificação CINE BRASIL</th>\n",
       "      <th>Ano de Ingresso</th>\n",
       "      <th>Quantidade de Ingressantes no Curso</th>\n",
       "      <th>Quantidade de Concluintes no Curso no ano de referência</th>\n",
       "      <th>Quantidade de Desistência no Curso no ano de referência</th>\n",
       "    </tr>\n",
       "  </thead>\n",
       "  <tbody>\n",
       "    <tr>\n",
       "      <th>1</th>\n",
       "      <td>1</td>\n",
       "      <td>1</td>\n",
       "      <td>Negócios, administração e direito</td>\n",
       "      <td>2019</td>\n",
       "      <td>54</td>\n",
       "      <td>0</td>\n",
       "      <td>3</td>\n",
       "    </tr>\n",
       "    <tr>\n",
       "      <th>2</th>\n",
       "      <td>1</td>\n",
       "      <td>1</td>\n",
       "      <td>Negócios, administração e direito</td>\n",
       "      <td>2019</td>\n",
       "      <td>54</td>\n",
       "      <td>0</td>\n",
       "      <td>7</td>\n",
       "    </tr>\n",
       "    <tr>\n",
       "      <th>3</th>\n",
       "      <td>1</td>\n",
       "      <td>1</td>\n",
       "      <td>Negócios, administração e direito</td>\n",
       "      <td>2019</td>\n",
       "      <td>54</td>\n",
       "      <td>0</td>\n",
       "      <td>1</td>\n",
       "    </tr>\n",
       "    <tr>\n",
       "      <th>4</th>\n",
       "      <td>1</td>\n",
       "      <td>1</td>\n",
       "      <td>Negócios, administração e direito</td>\n",
       "      <td>2019</td>\n",
       "      <td>54</td>\n",
       "      <td>0</td>\n",
       "      <td>9</td>\n",
       "    </tr>\n",
       "    <tr>\n",
       "      <th>5</th>\n",
       "      <td>1</td>\n",
       "      <td>1</td>\n",
       "      <td>Negócios, administração e direito</td>\n",
       "      <td>2019</td>\n",
       "      <td>54</td>\n",
       "      <td>8</td>\n",
       "      <td>0</td>\n",
       "    </tr>\n",
       "    <tr>\n",
       "      <th>...</th>\n",
       "      <td>...</td>\n",
       "      <td>...</td>\n",
       "      <td>...</td>\n",
       "      <td>...</td>\n",
       "      <td>...</td>\n",
       "      <td>...</td>\n",
       "      <td>...</td>\n",
       "    </tr>\n",
       "    <tr>\n",
       "      <th>1911</th>\n",
       "      <td>1</td>\n",
       "      <td>1</td>\n",
       "      <td>Saúde e bem-estar</td>\n",
       "      <td>2019</td>\n",
       "      <td>42</td>\n",
       "      <td>0</td>\n",
       "      <td>0</td>\n",
       "    </tr>\n",
       "    <tr>\n",
       "      <th>1912</th>\n",
       "      <td>1</td>\n",
       "      <td>1</td>\n",
       "      <td>Saúde e bem-estar</td>\n",
       "      <td>2019</td>\n",
       "      <td>42</td>\n",
       "      <td>0</td>\n",
       "      <td>3</td>\n",
       "    </tr>\n",
       "    <tr>\n",
       "      <th>1913</th>\n",
       "      <td>1</td>\n",
       "      <td>1</td>\n",
       "      <td>Saúde e bem-estar</td>\n",
       "      <td>2019</td>\n",
       "      <td>42</td>\n",
       "      <td>0</td>\n",
       "      <td>1</td>\n",
       "    </tr>\n",
       "    <tr>\n",
       "      <th>1914</th>\n",
       "      <td>1</td>\n",
       "      <td>1</td>\n",
       "      <td>Saúde e bem-estar</td>\n",
       "      <td>2019</td>\n",
       "      <td>42</td>\n",
       "      <td>1</td>\n",
       "      <td>2</td>\n",
       "    </tr>\n",
       "    <tr>\n",
       "      <th>1915</th>\n",
       "      <td>1</td>\n",
       "      <td>1</td>\n",
       "      <td>Saúde e bem-estar</td>\n",
       "      <td>2019</td>\n",
       "      <td>42</td>\n",
       "      <td>21</td>\n",
       "      <td>0</td>\n",
       "    </tr>\n",
       "  </tbody>\n",
       "</table>\n",
       "<p>1915 rows × 7 columns</p>\n",
       "</div>"
      ],
      "text/plain": [
       "     Grau Acadêmico Modalidade de Ensino  \\\n",
       "1                 1                    1   \n",
       "2                 1                    1   \n",
       "3                 1                    1   \n",
       "4                 1                    1   \n",
       "5                 1                    1   \n",
       "...             ...                  ...   \n",
       "1911              1                    1   \n",
       "1912              1                    1   \n",
       "1913              1                    1   \n",
       "1914              1                    1   \n",
       "1915              1                    1   \n",
       "\n",
       "     Nome da Grande Área do Curso segundo a classificação CINE BRASIL  \\\n",
       "1                     Negócios, administração e direito                 \n",
       "2                     Negócios, administração e direito                 \n",
       "3                     Negócios, administração e direito                 \n",
       "4                     Negócios, administração e direito                 \n",
       "5                     Negócios, administração e direito                 \n",
       "...                                                 ...                 \n",
       "1911                                  Saúde e bem-estar                 \n",
       "1912                                  Saúde e bem-estar                 \n",
       "1913                                  Saúde e bem-estar                 \n",
       "1914                                  Saúde e bem-estar                 \n",
       "1915                                  Saúde e bem-estar                 \n",
       "\n",
       "     Ano de Ingresso Quantidade de Ingressantes no Curso  \\\n",
       "1               2019                                  54   \n",
       "2               2019                                  54   \n",
       "3               2019                                  54   \n",
       "4               2019                                  54   \n",
       "5               2019                                  54   \n",
       "...              ...                                 ...   \n",
       "1911            2019                                  42   \n",
       "1912            2019                                  42   \n",
       "1913            2019                                  42   \n",
       "1914            2019                                  42   \n",
       "1915            2019                                  42   \n",
       "\n",
       "     Quantidade de Concluintes no Curso no ano de referência  \\\n",
       "1                                                     0        \n",
       "2                                                     0        \n",
       "3                                                     0        \n",
       "4                                                     0        \n",
       "5                                                     8        \n",
       "...                                                 ...        \n",
       "1911                                                  0        \n",
       "1912                                                  0        \n",
       "1913                                                  0        \n",
       "1914                                                  1        \n",
       "1915                                                 21        \n",
       "\n",
       "     Quantidade de Desistência no Curso no ano de referência  \n",
       "1                                                     3       \n",
       "2                                                     7       \n",
       "3                                                     1       \n",
       "4                                                     9       \n",
       "5                                                     0       \n",
       "...                                                 ...       \n",
       "1911                                                  0       \n",
       "1912                                                  3       \n",
       "1913                                                  1       \n",
       "1914                                                  2       \n",
       "1915                                                  0       \n",
       "\n",
       "[1915 rows x 7 columns]"
      ]
     },
     "execution_count": 66,
     "metadata": {},
     "output_type": "execute_result"
    }
   ],
   "source": [
    "df"
   ]
  },
  {
   "cell_type": "markdown",
   "id": "4e9ea0f5-68cc-4082-b7ed-417cf5dbfad1",
   "metadata": {},
   "source": [
    "## Conversão/Limpeza de Dados"
   ]
  },
  {
   "cell_type": "code",
   "execution_count": 67,
   "id": "ef18eb1a-3b5c-4012-b46b-6e73ca9f0234",
   "metadata": {},
   "outputs": [],
   "source": [
    "\n",
    "df['Quantidade de Ingressantes no Curso'] = pd.to_numeric(df['Quantidade de Ingressantes no Curso'], errors='coerce').astype('Int64')\n",
    "df['Quantidade de Concluintes no Curso no ano de referência'] = pd.to_numeric(df['Quantidade de Concluintes no Curso no ano de referência'], errors='coerce').astype('Int64')\n",
    "df['Quantidade de Desistência no Curso no ano de referência'] = pd.to_numeric(df['Quantidade de Desistência no Curso no ano de referência'], errors='coerce').astype('Int64')\n"
   ]
  },
  {
   "cell_type": "code",
   "execution_count": 68,
   "id": "0be2e707-c836-4bf0-a8f4-c7d32e3cb2aa",
   "metadata": {},
   "outputs": [],
   "source": [
    "qt_concluintes_total = df['Quantidade de Concluintes no Curso no ano de referência'].sum()\n",
    "qt_ingressantes_total = df['Quantidade de Ingressantes no Curso'].sum()\n",
    "qt_desistencia_total = df['Quantidade de Desistência no Curso no ano de referência'].sum()"
   ]
  }
 ],
 "metadata": {
  "kernelspec": {
   "display_name": "Python 3 (ipykernel)",
   "language": "python",
   "name": "python3"
  },
  "language_info": {
   "codemirror_mode": {
    "name": "ipython",
    "version": 3
   },
   "file_extension": ".py",
   "mimetype": "text/x-python",
   "name": "python",
   "nbconvert_exporter": "python",
   "pygments_lexer": "ipython3",
   "version": "3.8.10"
  }
 },
 "nbformat": 4,
 "nbformat_minor": 5
}
